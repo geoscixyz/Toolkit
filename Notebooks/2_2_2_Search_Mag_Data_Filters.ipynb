{
 "cells": [
  {
   "cell_type": "markdown",
   "metadata": {},
   "source": [
    "<a href=\"http://toolkit.geosci.xyz\"><img src=\"./images/Filters_search_TotHoriz.PNG\" alt=\"http://toolkit.geosci.xyz\" align=\"right\" width=\"300\"></a>\n",
    "\n",
    "# 2.2.2.\tSearch Case Study - 2D Magnetic Data Filters#\n",
    "\n",
    "Now let's apply our suite of 2D filters introduced in [Notebook 2.1.4.](http://toolkit.geosci.xyz/content/Demos/SyntheticFilters.html#synthetic-2d-magnetic-data-filters) to the Geoscience BC Search Phase II magnetic dataset.   \n",
    "\n",
    "## Define a project area\n",
    "\n",
    "Let's choose a subset of data to view more closely. The map on the left below shows the full Search Phase II magnetic dataset with a movable 'window' outlined in black, and the map on the right shows just the data encompassed by the window. The window can be resized and moved anywhere over the data using the slider bars (East, North, Width, and Height). The default window is 30 km x 30 km in size, a size typical of surveys flown to explore magnetic responses at the exploration property, or district scale.\n",
    "\n",
    "To run the notebook cells below, select the cell, and press **[Shift+Enter]**, or click on the 'Run' button in the menu at the top of the notebook. ![runcell](./images/runcell_30per_ppt.PNG)\n"
   ]
  },
  {
   "cell_type": "code",
   "execution_count": null,
   "metadata": {},
   "outputs": [],
   "source": [
    "## Load all libraries and setup the synthetic problem\n",
    "from GeoToolkit.Mag import Simulator, DataIO\n",
    "dataGrid = DataIO.loadGeoTiffFile(\"./assets/Search/MAG_UTM09.tiff\")"
   ]
  },
  {
   "cell_type": "code",
   "execution_count": null,
   "metadata": {},
   "outputs": [],
   "source": [
    "selection = Simulator.setDataExtentWidget(dataGrid, East=669500, North=6069500, nCx=600, nCy=600)\n",
    "display(selection)"
   ]
  },
  {
   "cell_type": "markdown",
   "metadata": {},
   "source": [
    "## 2D magnetic data filters\n",
    "\n",
    "\n",
    "Use the **'Grid Filters'** drop-down menu to choose a filter to apply to the magnetic data. ![gridfilter](./images/grid_filters_dropdown_vert_50per_ppt.PNG)\n",
    "\n",
    "Change the upward continuation height, or distance, using the slider bar labelled **'UpC'** (the default is 0 m, so you will need to change it to observe a change in the data): ![upwarddistSlider](./images/updist_height_upC_50per_ppt.PNG)\n",
    "\n",
    "The options to change the sun-shading azimuth, angle, and transparency, as well as the color map, are available again here. \n",
    "\n",
    "This grid can be exported as a located image (geoTiff) and loaded into any software that accepts these types of files, including Google Earth and ArcMap. Try it! Click on the 'Export Grid' button. The coordinate system the Search Phase II data files are exported in is NAD 83 UTM Zone 9, EPSG code 3156, unless a new EPSG code is specified in the EPSG code box. \n",
    "\n",
    "**To use the image in GoogleEarth, export with EPSG=4326**"
   ]
  },
  {
   "cell_type": "code",
   "execution_count": null,
   "metadata": {},
   "outputs": [],
   "source": [
    "dataGrid = Simulator.gridFiltersWidget(selection.result, saveAs='SearchFilter')\n",
    "display(dataGrid)"
   ]
  },
  {
   "cell_type": "markdown",
   "metadata": {},
   "source": [
    "  "
   ]
  }
 ],
 "metadata": {
  "kernelspec": {
   "display_name": "Python 3",
   "language": "python",
   "name": "python3"
  },
  "language_info": {
   "codemirror_mode": {
    "name": "ipython",
    "version": 3
   },
   "file_extension": ".py",
   "mimetype": "text/x-python",
   "name": "python",
   "nbconvert_exporter": "python",
   "pygments_lexer": "ipython3",
   "version": "3.6.5"
  }
 },
 "nbformat": 4,
 "nbformat_minor": 2
}
