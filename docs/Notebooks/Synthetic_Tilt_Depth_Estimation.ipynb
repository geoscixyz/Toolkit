{
 "cells": [
  {
   "cell_type": "markdown",
   "metadata": {},
   "source": [
    "# 2.1.4.\tSynthetic - Depth to Source#\n",
    "\n",
    "There is yet more useful information that we can derive from a suite of high quality magnetic data, again using some simple techniques. It is possible to obtain information about the depth to the top of a magnetic body from magnetic data. \n",
    "\n",
    "Analyzing the depth to a magnetic source is valuable for many reasons. Having an approximation of the depth of a body, especially if it is expected to represent ore, is invariably useful for planning drill targets. In the case of some geologic bodies that might be related to mineralization such as porphyry intrusive bodies, the shape or topography of the intrusion can indicate were the regions of highest fluid flow might have occurred. Results of depth to source modelling can be used as a guide and starting point for 3D geological modelling or further exploration of the shape of the anomaly using forward modelling or inversion techniques. Depending on of course the physical properties, specifically the magnetic susceptibility, of the rock types within a study area, and their distribution and orientation, it is possible to find the depths to not only compact magnetic bodies, but possibly depths to the basement in general, or depths to particular stratigraphic horizons.\n",
    "\n",
    "For this exercise, we will find the depth of both the small high magnetic susceptibility body and the larger magnetic block in the 3D synthetic geologic model. We will use the tilt-depth method (Salem et al., 2007, Blakely et al., 2016) to do this. The tilt angle, discussed in Notebook 2.1.2., considers the vertical and horizontal magnetic gradients. Depth can be estimated where the tilt angle is zero, at the edge or margin of a feature or source. Depth to the edge of a source is then approximately half the distance between the 45deg and -45 degree contours of the calculated tilt angle.\n",
    "\n",
    "Inclination must be 90, thus reduced to pole data is used in this calculation. This method assumes that the magnetic body is simple and also vertically-sided, which means that the depth estimation will be less accurate for dipping bodies or bodies with complex margins. \n",
    "\n",
    "\n",
    "\n",
    "<!-- <img src=\"./images/SearchQuestII.png\"> -->\n"
   ]
  },
  {
   "cell_type": "markdown",
   "metadata": {},
   "source": [
    "## Total magnetic intensity data\n",
    "\n",
    "The below image shows the total magnetic intensity (TMI) that was calculated from the synthetic geologic model. The response is based on magnetic field parameters at the north pole, in other words, the magnetic field is vertical."
   ]
  },
  {
   "cell_type": "code",
   "execution_count": null,
   "metadata": {},
   "outputs": [],
   "source": [
    "## Load all libraries and setup the synthetic problem\n",
    "from library.Mag import Mag, ProblemSetter, MathUtils, Simulator, DataIO\n",
    "import numpy as np\n",
    "\n",
    "# Load data and topo and build default model\n",
    "workDir = \"./assets/Synthetic/\"\n",
    "fName = 'DataGrid.tiff'\n",
    "\n",
    "dataGrid = DataIO.loadGeoTiffFile(workDir+fName, plotIt=True)"
   ]
  },
  {
   "cell_type": "code",
   "execution_count": null,
   "metadata": {},
   "outputs": [],
   "source": [
    "selection = Simulator.gridFiltersWidget(dataGrid, gridFilter='upwardContinuation')\n",
    "display(selection)"
   ]
  },
  {
   "cell_type": "markdown",
   "metadata": {},
   "source": [
    "## Tilt angle\n",
    "\n",
    "The tilt angle map (also calculated in Notebook 2.1.4) is shown below. The zero contour is expected to represent edges of geological bodies, and is where tilt-depth calculations are focused. "
   ]
  },
  {
   "cell_type": "code",
   "execution_count": null,
   "metadata": {},
   "outputs": [],
   "source": [
    "polylines, attributes = MathUtils.estimateDepth(selection.result)\n",
    "\n",
    "# Export to shapefile\n",
    "DataIO.exportShapefile(polylines, attributes, EPSGCode=26909, fileName='Tilt2Depth', label='MeanDepth')"
   ]
  },
  {
   "cell_type": "markdown",
   "metadata": {},
   "source": [
    "## Tilt-depth\n",
    "\n",
    "Here we have extracted the zero contour and painted onto the contour the estimated depth to source at that location. The depth is the half-distance calculated between the +/-45 degree contours. The contour can be superimposed on either the TMI data map or the tilt map for comparison. \n",
    "\n",
    "The depth of the edges of the smaller magnetic body is estimated at 86 m depth and the depth of the large magnetic block is estimated at 104 m, both estimates are relatively close to the true depths of 100 m for these blocks. The contacts of the smaller and larger magnetic blocks are vertical thus the tilt-depth estimation is expected to be more accurate. The northwest trending fault within the large magnetic block has edges modelled at 73 m depth. This fault dips at 80 degrees and depth to the top of the edge of this feature is possibly less well-estimated due to it's dip. \n"
   ]
  },
  {
   "cell_type": "markdown",
   "metadata": {},
   "source": [
    "## Plot properties\n",
    "\n",
    "- The size of the markers for the estimated depth can be changed in the dictionary below with the key 'size'"
   ]
  },
  {
   "cell_type": "code",
   "execution_count": null,
   "metadata": {},
   "outputs": [],
   "source": [
    "scatterData = {}\n",
    "scatterData['x'] = np.vstack(polylines)[:,0]\n",
    "scatterData['y'] = np.vstack(polylines)[:,1]\n",
    "scatterData['size'] = 25\n",
    "scatterData['c'] = np.concatenate(attributes)\n",
    "scatterData['cmap'] = 'viridis'\n",
    "scatterData['clim'] = [0, 250]\n",
    "\n",
    "param = Simulator.gridFiltersWidget(selection.result, \n",
    "                                    gridFilter='tiltAngle', \n",
    "                                    figName='TiltAngle_Synthetic',\n",
    "                                    scatterData=scatterData)\n",
    "display(param)"
   ]
  },
  {
   "cell_type": "markdown",
   "metadata": {},
   "source": [
    "  "
   ]
  }
 ],
 "metadata": {
  "kernelspec": {
   "display_name": "Python 3",
   "language": "python",
   "name": "python3"
  },
  "language_info": {
   "codemirror_mode": {
    "name": "ipython",
    "version": 3
   },
   "file_extension": ".py",
   "mimetype": "text/x-python",
   "name": "python",
   "nbconvert_exporter": "python",
   "pygments_lexer": "ipython3",
   "version": "3.6.5"
  }
 },
 "nbformat": 4,
 "nbformat_minor": 2
}
