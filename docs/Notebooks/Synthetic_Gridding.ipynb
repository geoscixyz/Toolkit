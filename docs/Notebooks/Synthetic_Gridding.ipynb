{
 "cells": [
  {
   "cell_type": "markdown",
   "metadata": {},
   "source": [
    "# 2.1.2.\tSynthetic - Data Gridding and Visualization\n",
    "\n"
   ]
  },
  {
   "cell_type": "markdown",
   "metadata": {},
   "source": [
    "## Gridding the magnetic data\n",
    "\n",
    "Magnetic data should be gridded prior to applying transforms and filters. This means that the flight line data must be interpolated on a regular 2D grid. There are numerous possible ways to grid data. Several researchers have demonstrated that minimum curvature methods are robust and yield a sensible and smooth result, so we have chosen minimum curvature to complete the gridding for this example. In this example, the data are interpolated on a 10 m x 10 m grid. The magnetic field parameters of central BC (Geoscience BC Search II area) are returned to here. \n",
    "\n",
    "The resulting gridded data shows the larger and smaller magnetic bodies, and the magnetic low related to the NW trending structure cross-cutting the larger magnetic domain.\n"
   ]
  },
  {
   "cell_type": "code",
   "execution_count": null,
   "metadata": {},
   "outputs": [],
   "source": [
    "## Load all libraries and setup the synthetic problem\n",
    "from library.Mag import Mag, ProblemSetter, MathUtils, Simulator, DataIO\n",
    "import numpy as np\n",
    "\n",
    "# Load data and topo and build default model\n",
    "survey = Mag.readMagneticsObservations('./assets/TKC/DIGHEM_Mag_floor10nt_25m.obs')\n",
    "topo = np.genfromtxt('./assets/TKC/TKCtopoDwnS.dat', skip_header=1)\n",
    "locs = survey.srcField.rxList[0].locs\n",
    "\n",
    "# Build the problem\n",
    "survey = ProblemSetter.setSyntheticProblem(locs, topo=topo, discretize=False, plotSections=False)\n"
   ]
  },
  {
   "cell_type": "code",
   "execution_count": null,
   "metadata": {},
   "outputs": [],
   "source": [
    "view = Simulator.dataGriddingWidget(survey, fileName=\"DataGrid\")\n",
    "display(view)"
   ]
  },
  {
   "cell_type": "markdown",
   "metadata": {},
   "source": [
    "## Data visualization and image enhancement\n",
    "\n",
    "Simple enhancements to the image can help an interpreter better visualize features within the magnetic data. Applying sun-shading from various angles, experimenting with colour contrast, and adding contour lines are a simple means to explore the data initially. \n",
    "\n",
    "Try using the slider bars above the map to change the direction (SunAzimuth) and angle (SunAngle) of sun shading, to vary color transparency (ColorTransp) and sun-shade transparency (HSTransp), change the vertical scale (vScale) and to manipulate magnetic contour lines (MagContour).\n",
    "\n",
    "The color map or color 'look-up table' can also be changed. Some look-up tables will do an obviously better job of enhancing a range of features (those with a larger color range for example), while others may be used simply because of an interpreters personal preference. Several color look-up tables are available in the drop down menu.\n",
    "\n",
    "Choice of color map is an often debated topic in geophysics! One important point to consider is that some color maps have the 'brightest' colors at the top of the scale (e.g. grey scale, viridis), whereas others have the brightest color in the mid-ranges (e.g. rainbow, jet, red-blue). This color ordering can be deceptive to the eye of an interpreter who is sensitive to color contrast. A color map with the brightest color in the mid-ranges and may cause problems if a map is printed in greyscale, suddenly mid-range values are the most brightest and clear features. Having bright colors in the mid-range however, may be useful for visually separating areas of high versus low magnetic response.       \n",
    "\n",
    "Finally, the color stretch can be changed. Here we've allowed two options, a linear stretch (Linear), and a histogram equalized (HistEqualized) stretch. Using a linear stretch, the values within a range of magnetic data are mapped to 256 classes or bins within a chosen color map in a linear manner, meaning if there are few anomalously high values (outliers) in the range, the 'strongest' color values will be mapped rarely. If there are many middle-range values, the image may be flooded with mid range color values. While a linear color stretch will highlight the most anomalous values, it can wash out subtler features in the data. Histogram equialization will vary the color bin sizes to map an equal number of data points per bin, essentially giving equal weight to low, mid-range, and high magnetic values.        \n",
    "references...\n",
    "https://stats.stackexchange.com/questions/223315/why-use-colormap-viridis-over-jet"
   ]
  },
  {
   "cell_type": "code",
   "execution_count": null,
   "metadata": {},
   "outputs": [],
   "source": [
    "view = Simulator.dataHillsideWidget(view.result, EPSGCode=26909, figName='DataHillshade', dpi=300)\n",
    "display(view)"
   ]
  },
  {
   "cell_type": "markdown",
   "metadata": {},
   "source": [
    " "
   ]
  }
 ],
 "metadata": {
  "kernelspec": {
   "display_name": "Python 3",
   "language": "python",
   "name": "python3"
  },
  "language_info": {
   "codemirror_mode": {
    "name": "ipython",
    "version": 3
   },
   "file_extension": ".py",
   "mimetype": "text/x-python",
   "name": "python",
   "nbconvert_exporter": "python",
   "pygments_lexer": "ipython3",
   "version": "3.6.5"
  }
 },
 "nbformat": 4,
 "nbformat_minor": 2
}
