{
 "cells": [
  {
   "cell_type": "markdown",
   "metadata": {},
   "source": [
    "# 2.2.2.\tSearch - 2D Magnetic Data Filters#\n",
    "\n",
    "Now let's apply our suite of 2D filters introduced in notebook 2.1.2. to the Geoscience BC Search Phase II magnetic dataset.   \n",
    "\n",
    "\n",
    "## Total magnetic intensity and area selection\n",
    "\n",
    "Below is the gridded total magnetic intensity data from the Search Phase II project. The magnetic data is interpolated onto a 50 $m^2$ grid, plotted using coordinate system NAD 83 UTM Zone 9.  \n",
    "\n",
    "Once again, we can choose a smaller area of interest to zoom into and apply our filters. The data 'window' shown in the left map (black outline) can be resized and moved anywhere over the data using the slider bars. \n",
    "\n",
    "\n",
    "<!-- <img src=\"./images/SearchQuestII.png\"> -->\n"
   ]
  },
  {
   "cell_type": "code",
   "execution_count": null,
   "metadata": {},
   "outputs": [],
   "source": [
    "## Load all libraries and setup the synthetic problem\n",
    "from library.Mag import Mag, ProblemSetter, MathUtils, Simulator, DataIO\n",
    "\n",
    "# Load data in grid format\n",
    "workDir = './assets/Search/'\n",
    "fName = 'MAG_UTM09.tiff'\n",
    "\n",
    "dataGrid = DataIO.loadGeoTiffFile(workDir + fName, plotIt=False)"
   ]
  },
  {
   "cell_type": "code",
   "execution_count": null,
   "metadata": {},
   "outputs": [],
   "source": [
    "selection = ProblemSetter.setDataExtentWidget(dataGrid)\n",
    "display(selection)"
   ]
  },
  {
   "cell_type": "code",
   "execution_count": null,
   "metadata": {},
   "outputs": [],
   "source": [
    "selection = Simulator.gridFiltersWidget(selection.result, gridFilter='upwardContinuation')\n",
    "display(selection)"
   ]
  },
  {
   "cell_type": "markdown",
   "metadata": {},
   "source": [
    "## X and Y derivatives of the magnetic response\n",
    "\n",
    "\n",
    "X and Y derivatives emphasize magnetic gradients in the X and Y directions, respectively. The steepest gradients occur where there are contrasts in magnetic susceptibility between adjacent rock rocks or due to cross-cutting structures. Anomalies in X and Y derivative data thus peak over geologic contacts, faults, or fractures.\n",
    "\n",
    "Grids showing the X and Y derivatives of the windowed Search Phase II magnetic data are shown below. North-south trending features are highlighted in the X derivative data, and east-west trending features highlighted in the Y derivative data. \n",
    "\n",
    "Image sun-shading and color can be varied, and the filtered data can be compared with the original total mangetic intensity (TMI) data using the 'Grid Filters' drop-down menu. "
   ]
  },
  {
   "cell_type": "code",
   "execution_count": null,
   "metadata": {},
   "outputs": [],
   "source": [
    "param = Simulator.gridFiltersWidget(selection.result, gridFilter='derivativeX')\n",
    "display(param)"
   ]
  },
  {
   "cell_type": "code",
   "execution_count": null,
   "metadata": {},
   "outputs": [],
   "source": [
    "param = Simulator.gridFiltersWidget(selection.result, gridFilter='derivativeY')\n",
    "display(param)"
   ]
  },
  {
   "cell_type": "markdown",
   "metadata": {},
   "source": [
    "## Vertical derivative\n",
    "\n",
    "The vertical derivative represents the difference between the magnetic response measured at two different heights above the Earth. First vertical derivative anomalies will highlight edges of magnetic sources, and appear over the top of the source if the contact or feature is vertical. \n",
    "\n",
    "The Search II data are filtered here to yield the first vertical derivative. "
   ]
  },
  {
   "cell_type": "code",
   "execution_count": null,
   "metadata": {},
   "outputs": [],
   "source": [
    "param = Simulator.gridFiltersWidget(selection.result, gridFilter='firstVertical')\n",
    "display(param)"
   ]
  },
  {
   "cell_type": "markdown",
   "metadata": {},
   "source": [
    "## Total horizontal derivative\n",
    "\n",
    "The total horizontal derivative is calculated by combining the X and Y derivatives. The highest total horizontal derivative values occur at the edges or boundaries of magnetic sources. \n",
    "\n",
    "The total horizonal derivative of the Search Phase II data is plotted below. The map has a worm-like texture as geologic 'edges' are being emphasized. "
   ]
  },
  {
   "cell_type": "code",
   "execution_count": null,
   "metadata": {},
   "outputs": [],
   "source": [
    "param = Simulator.gridFiltersWidget(selection.result, gridFilter='totalHorizontal')\n",
    "display(param)"
   ]
  },
  {
   "cell_type": "markdown",
   "metadata": {},
   "source": [
    "## Tilt angle\n",
    "\n",
    "The tilt angle normalizes the vertical derivative by the horizontal derivatives. The tilt angle will yield a result that gives an equal emphasis to both large and smaller anomalies. The tilt angle is positive over the magnetic source, and negative outside the source, with edges of sources delimited by the 0 degree contour.\n",
    "\n",
    "Applying a tilt angle filter to the Search II data, we get a map with lots of anomalies. You can see more detail now in magnetically 'quiet' regions than previously seen in the X and Y derivative maps. This is very helpful for distinguishing features in weakly magnetic areas, but makes it more difficult to identify the discrete stronger magnetic anomalies in the area seen in some of the other derivative maps."
   ]
  },
  {
   "cell_type": "code",
   "execution_count": null,
   "metadata": {},
   "outputs": [],
   "source": [
    "param = Simulator.gridFiltersWidget(selection.result, gridFilter='tiltAngle')\n",
    "display(param)"
   ]
  },
  {
   "cell_type": "markdown",
   "metadata": {},
   "source": [
    "## Upward continuation\n",
    "\n",
    "Upward continuation simulates the magnetic response at increased heights above the Earth’s surface and emphasizes longer-wavelength, deeper features, making it effective for interpretation of deep geology.\n",
    "\n",
    "An upward continuation filter is applied to the Search Phase II data below. You can alternate between the upward contined response here and the TMI data. Change the upward continuation distance using the slider bar. Try an upward continuation distance of 100 m, then 200 m. Detail in the magnetic data is lost, however several magnetic features persist, giving interpreters a sense of the deep geology underlying the property."
   ]
  },
  {
   "cell_type": "markdown",
   "metadata": {},
   "source": [
    "## Analytic signal\n",
    "\n",
    "The analytic signal or total gradient is calculated from the vertical and horizontal derivatives, accounting for magnetic contrasts in all three directions. The analytic signal peaks immediately above narrow bodies and along the edges of larger geologic features that are in magnetic contrast to their surroundings. \n",
    "\n",
    "The analytic signal of the Search II data does appear to peak over the tops of, and define the extents of smaller anomalous bodies. The result shows similarities to both the first vertical derivative and the total horizontal gradient which makes sense due to the incorporation of the three gradients (X, Y, Z) in the calculation. "
   ]
  },
  {
   "cell_type": "code",
   "execution_count": null,
   "metadata": {},
   "outputs": [],
   "source": [
    "param = Simulator.gridFiltersWidget(selection.result, gridFilter='analyticSignal')\n",
    "display(param)"
   ]
  },
  {
   "cell_type": "markdown",
   "metadata": {},
   "source": [
    "## Reduction to pole\n",
    "\n",
    "As discussed previously, and demonstrated in Notebook 2.1.1., the magnetic response observed depends on the location of the magnetic survey and the local magnetic field, its inclination and declination. At low latitudes, anomalies can be offset significantly from the location of the magnetic source in the ground! The solution typically applied to ‘correct’ for this, is a processing technique called “reduction to pole’. This re-calculates the magnetic response as if it was recorded at the pole where the magnetic field inclination is vertical, and ultimately aligns anomalies so they are located directly over the source. At very low latitudes (<15 degrees), where the inclination is near-horizontal, noise and artifacts can result from reduction to pole processing. Other corrections can be applied, or else an interpretation of the analytic signal (more below) may be more useful. references, MacLeod. "
   ]
  },
  {
   "cell_type": "code",
   "execution_count": null,
   "metadata": {},
   "outputs": [],
   "source": [
    "param = Simulator.gridFiltersWidget(selection.result, gridFilter='RTP')\n",
    "display(param)"
   ]
  },
  {
   "cell_type": "markdown",
   "metadata": {},
   "source": [
    "  "
   ]
  }
 ],
 "metadata": {
  "kernelspec": {
   "display_name": "Python 3",
   "language": "python",
   "name": "python3"
  },
  "language_info": {
   "codemirror_mode": {
    "name": "ipython",
    "version": 3
   },
   "file_extension": ".py",
   "mimetype": "text/x-python",
   "name": "python",
   "nbconvert_exporter": "python",
   "pygments_lexer": "ipython3",
   "version": "3.6.5"
  }
 },
 "nbformat": 4,
 "nbformat_minor": 2
}
